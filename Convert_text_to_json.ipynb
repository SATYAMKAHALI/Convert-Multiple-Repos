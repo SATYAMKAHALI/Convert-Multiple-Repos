{
  "nbformat": 4,
  "nbformat_minor": 0,
  "metadata": {
    "colab": {
      "provenance": [],
      "authorship_tag": "ABX9TyPc4ZPQMJFXxCMLoEAmnJ0E"
    },
    "kernelspec": {
      "name": "python3",
      "display_name": "Python 3"
    },
    "language_info": {
      "name": "python"
    }
  },
  "cells": [
    {
      "cell_type": "code",
      "execution_count": null,
      "metadata": {
        "colab": {
          "base_uri": "https://localhost:8080/"
        },
        "id": "XHZbH4l8Gv8T",
        "outputId": "6b97370a-750c-49fb-ff34-09ae23cbc9e4"
      },
      "outputs": [
        {
          "output_type": "stream",
          "name": "stdout",
          "text": [
            "JSON file saved successfully!\n"
          ]
        }
      ],
      "source": [
        "import json\n",
        "\n",
        "# JSON Data\n",
        "data = [\n",
        "  \"Your data in proper format\"\n",
        "]\n",
        "\n",
        "with open(\"Coffee_cultivation.json\", \"w\", encoding=\"utf-8\") as json_file:\n",
        "    json.dump(data, json_file, indent=4)\n",
        "print(\"JSON file saved successfully!\")\n"
      ]
    }
  ]
}
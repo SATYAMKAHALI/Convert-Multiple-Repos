{
  "nbformat": 4,
  "nbformat_minor": 0,
  "metadata": {
    "colab": {
      "provenance": []
    },
    "kernelspec": {
      "name": "python3",
      "display_name": "Python 3"
    },
    "language_info": {
      "name": "python"
    }
  },
  "cells": [
    {
      "cell_type": "code",
      "execution_count": null,
      "metadata": {
        "id": "JV2YRiNvqFLC"
      },
      "outputs": [],
      "source": [
        "import requests\n",
        "import json\n",
        "from datasets import Dataset\n",
        "\n",
        "# GitHub details\n",
        "username = \"SATYAMKAHALI\"\n",
        "repo = \"My-Testing-dataset-for-finetuning-LLM\"\n",
        "branch = \"main\"\n",
        "\n",
        "# Step 1: Fetch the file list\n",
        "api_url = f\"https://api.github.com/repos/{username}/{repo}/contents\"\n",
        "response = requests.get(api_url)\n",
        "\n",
        "# Check for errors\n",
        "if response.status_code != 200:\n",
        "    print(\"Error:\", response.status_code, response.text)\n",
        "    raise ValueError(\"Failed to fetch data from GitHub API\")\n",
        "\n",
        "# Step 2: Filter JSON files\n",
        "files = response.json()\n",
        "json_files = [file['download_url'] for file in files if isinstance(file, dict) and file['name'].endswith('.json')]\n",
        "\n",
        "# Step 3: Download and merge JSON data\n",
        "data_list = []\n",
        "for url in json_files:\n",
        "    file_data = requests.get(url).json()  # No headers needed\n",
        "    if isinstance(file_data, list):\n",
        "        data_list.extend(file_data)  # Flatten if it's a list\n",
        "    elif isinstance(file_data, dict):\n",
        "        data_list.append(file_data)\n",
        "\n",
        "# Step 4: Convert to Hugging Face Dataset\n",
        "dataset = Dataset.from_list(data_list)  # Ensure all items are dictionaries\n",
        "\n",
        "# Step 5: Save the merged dataset (optional)\n",
        "dataset.to_json(\"merged_dataset.json\")\n",
        "\n",
        "print(\"Dataset size:\", len(dataset))\n"
      ]
    }
  ]
}